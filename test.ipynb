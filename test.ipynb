{
 "cells": [
  {
   "cell_type": "code",
   "execution_count": null,
   "metadata": {},
   "outputs": [],
   "source": [
    "from enum import Enum, auto\n",
    "from openai_function_call import OpenAISchema\n",
    "from pydantic import Field\n",
    "\n",
    "class Role(Enum):\n",
    "    PRINCIPAL = auto()\n",
    "    TEACHER = auto()\n",
    "    STUDENT = auto()\n",
    "    OTHER = auto()\n",
    "\n",
    "class UserDetail(BaseModel):\n",
    "    age: int\n",
    "    name: str\n",
    "    role: Role = Field(description=\"Correctly assign one of the predefined roles to the user.\")\n",
    "\n",
    "user = UserDetail(age=30, name=\"John Doe\", role=Role.TEACHER)\n",
    "print(user.role)  # 输出 Role.TEACHER"
   ]
  }
 ],
 "metadata": {
  "kernelspec": {
   "display_name": "chatgpt",
   "language": "python",
   "name": "python3"
  },
  "language_info": {
   "name": "python",
   "version": "3.10.12"
  },
  "orig_nbformat": 4
 },
 "nbformat": 4,
 "nbformat_minor": 2
}
