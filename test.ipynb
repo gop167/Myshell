{
 "cells": [
  {
   "cell_type": "code",
   "execution_count": 8,
   "metadata": {},
   "outputs": [
    {
     "name": "stdout",
     "output_type": "stream",
     "text": [
      "Role.TEACHER\n"
     ]
    }
   ],
   "source": [
    "from enum import Enum, auto\n",
    "from openai_function_call import OpenAISchema\n",
    "from pydantic import Field,BaseModel\n",
    "\n",
    "class Role(Enum):\n",
    "    PRINCIPAL = auto()\n",
    "    TEACHER = \"teacher\"\n",
    "    STUDENT = auto()\n",
    "    OTHER = auto()\n",
    "\n",
    "class UserDetail(BaseModel):\n",
    "    age: int\n",
    "    name: str\n",
    "    role: Role = Field(description=\"Correctly assign one of the predefined roles to the user.\")\n",
    "\n",
    "user = UserDetail(age=30, name=\"John Doe\", role=Role.TEACHER)\n",
    "print(user.role)  # 输出 Role.TEACHER"
   ]
  },
  {
   "cell_type": "code",
   "execution_count": 9,
   "metadata": {},
   "outputs": [
    {
     "data": {
      "text/plain": [
       "{'name': 'UserDetails',\n",
       " 'description': \"Correctly extracted user information\\n\\n:param name: the user's full name\\n:param age: age of the user\",\n",
       " 'parameters': {'properties': {'name': {'description': \"User's full name\",\n",
       "    'type': 'string'},\n",
       "   'age': {'type': 'integer'}},\n",
       "  'required': ['age', 'name'],\n",
       "  'type': 'object'}}"
      ]
     },
     "execution_count": 9,
     "metadata": {},
     "output_type": "execute_result"
    }
   ],
   "source": [
    "class UserDetails(OpenAISchema):\n",
    "    \"\"\"\n",
    "    Correctly extracted user information\n",
    "\n",
    "    :param name: the user's full name\n",
    "    :param age: age of the user\n",
    "    \"\"\"\n",
    "    name: str = Field(..., description=\"User's full name\")\n",
    "    age: int\n",
    "\n",
    "UserDetails.openai_schema"
   ]
  },
  {
   "cell_type": "code",
   "execution_count": 18,
   "metadata": {},
   "outputs": [
    {
     "name": "stdout",
     "output_type": "stream",
     "text": [
      "{'name': 'UserDetails', 'description': 'Correctly extracted `UserDetails` with all the required parameters with correct types', 'parameters': {'properties': {'name': {'description': \"User's full name\", 'type': 'string'}, 'age': {'type': 'integer'}}, 'required': ['age', 'name'], 'type': 'object'}}\n",
      "John Doe\n",
      "30\n"
     ]
    }
   ],
   "source": [
    "import openai\n",
    "from instructor import OpenAISchema\n",
    "from pydantic import Field\n",
    "openai.api_type = \"azure\"\n",
    "openai.api_key = \"0396650923ad40b880bf2a3ce3b80b9b\"\n",
    "openai.api_base = \"https://myshell0.openai.azure.com\"\n",
    "openai.api_version = \"2023-07-01-preview\"\n",
    "#@markdown ##Para\n",
    "model=\"gpt-3.5-turbo-16k\" #@param[\"gpt-3.5-turbo-0301\",\"gpt-3.5-turbo-0613\",\"gpt-3.5-turbo-16k\"]\n",
    "temperature = 0.0 #@param {type:\"slider\", min:0, max:2, step:0.1}\n",
    "top_p = 1  #@param {type:\"slider\", min:0, max:2, step:0.1}\n",
    "max_tokens = 60 #@param {type:\"slider\", min:0, max:500, step:1}\n",
    "frequency_penalty = 0 #@param {type:\"slider\", min:0, max:2, step:0.1}\n",
    "presence_penalty = 0 #@param {type:\"slider\", min:0, max:2, step:0.1}\n",
    "\n",
    "class UserDetails(OpenAISchema):\n",
    "    name: str = Field(..., description=\"User's full name\")\n",
    "    age: int\n",
    "\n",
    "\n",
    "completion = openai.ChatCompletion.create(\n",
    "    temperature=temperature,\n",
    "    top_p=top_p,\n",
    "    model=model,\n",
    "    deployment_id=\"gpt-35-turbo-0613\",\n",
    "    functions=[UserDetails.openai_schema],\n",
    "    function_call={\"name\": UserDetails.openai_schema[\"name\"]},\n",
    "    messages=[\n",
    "        {\"role\": \"system\", \"content\": \"Extract user details from my requests\"},\n",
    "        {\"role\": \"user\", \"content\": \"My name is John Doe and I'm 30 years old.\"},\n",
    "    ],\n",
    ")\n",
    "\n",
    "user = UserDetails.from_response(completion)\n",
    "print(UserDetails.openai_schema)\n",
    "print(user.name)  # Output: John Doe\n",
    "print(user.age)   # Output: 30"
   ]
  },
  {
   "cell_type": "code",
   "execution_count": 20,
   "metadata": {},
   "outputs": [
    {
     "ename": "RuntimeError",
     "evalue": "asyncio.run() cannot be called from a running event loop",
     "output_type": "error",
     "traceback": [
      "\u001b[0;31m---------------------------------------------------------------------------\u001b[0m",
      "\u001b[0;31mRuntimeError\u001b[0m                              Traceback (most recent call last)",
      "\u001b[1;32m/Users/chenyifu/PycharmProjects/Myshellgpt/sd_prompt/Myshell/test.ipynb 单元格 4\u001b[0m line \u001b[0;36m8\n\u001b[1;32m      <a href='vscode-notebook-cell:/Users/chenyifu/PycharmProjects/Myshellgpt/sd_prompt/Myshell/test.ipynb#W3sZmlsZQ%3D%3D?line=4'>5</a>\u001b[0m     \u001b[39mawait\u001b[39;00m asyncio\u001b[39m.\u001b[39msleep(\u001b[39m1\u001b[39m)\n\u001b[1;32m      <a href='vscode-notebook-cell:/Users/chenyifu/PycharmProjects/Myshellgpt/sd_prompt/Myshell/test.ipynb#W3sZmlsZQ%3D%3D?line=5'>6</a>\u001b[0m     \u001b[39mprint\u001b[39m(\u001b[39m\"\u001b[39m\u001b[39mEnd foo\u001b[39m\u001b[39m\"\u001b[39m)\n\u001b[0;32m----> <a href='vscode-notebook-cell:/Users/chenyifu/PycharmProjects/Myshellgpt/sd_prompt/Myshell/test.ipynb#W3sZmlsZQ%3D%3D?line=7'>8</a>\u001b[0m asyncio\u001b[39m.\u001b[39;49mrun(foo())\n",
      "File \u001b[0;32m~/opt/anaconda3/envs/chatgpt/lib/python3.10/asyncio/runners.py:33\u001b[0m, in \u001b[0;36mrun\u001b[0;34m(main, debug)\u001b[0m\n\u001b[1;32m      9\u001b[0m \u001b[39m\u001b[39m\u001b[39m\"\"\"Execute the coroutine and return the result.\u001b[39;00m\n\u001b[1;32m     10\u001b[0m \n\u001b[1;32m     11\u001b[0m \u001b[39mThis function runs the passed coroutine, taking care of\u001b[39;00m\n\u001b[0;32m   (...)\u001b[0m\n\u001b[1;32m     30\u001b[0m \u001b[39m    asyncio.run(main())\u001b[39;00m\n\u001b[1;32m     31\u001b[0m \u001b[39m\"\"\"\u001b[39;00m\n\u001b[1;32m     32\u001b[0m \u001b[39mif\u001b[39;00m events\u001b[39m.\u001b[39m_get_running_loop() \u001b[39mis\u001b[39;00m \u001b[39mnot\u001b[39;00m \u001b[39mNone\u001b[39;00m:\n\u001b[0;32m---> 33\u001b[0m     \u001b[39mraise\u001b[39;00m \u001b[39mRuntimeError\u001b[39;00m(\n\u001b[1;32m     34\u001b[0m         \u001b[39m\"\u001b[39m\u001b[39masyncio.run() cannot be called from a running event loop\u001b[39m\u001b[39m\"\u001b[39m)\n\u001b[1;32m     36\u001b[0m \u001b[39mif\u001b[39;00m \u001b[39mnot\u001b[39;00m coroutines\u001b[39m.\u001b[39miscoroutine(main):\n\u001b[1;32m     37\u001b[0m     \u001b[39mraise\u001b[39;00m \u001b[39mValueError\u001b[39;00m(\u001b[39m\"\u001b[39m\u001b[39ma coroutine was expected, got \u001b[39m\u001b[39m{!r}\u001b[39;00m\u001b[39m\"\u001b[39m\u001b[39m.\u001b[39mformat(main))\n",
      "\u001b[0;31mRuntimeError\u001b[0m: asyncio.run() cannot be called from a running event loop"
     ]
    }
   ],
   "source": [
    "import asyncio\n",
    "\n",
    "async def foo():\n",
    "    print(\"Start foo\")\n",
    "    await asyncio.sleep(1)\n",
    "    print(\"End foo\")\n",
    "    \n",
    "asyncio.run(foo())"
   ]
  }
 ],
 "metadata": {
  "kernelspec": {
   "display_name": "chatgpt",
   "language": "python",
   "name": "python3"
  },
  "language_info": {
   "codemirror_mode": {
    "name": "ipython",
    "version": 3
   },
   "file_extension": ".py",
   "mimetype": "text/x-python",
   "name": "python",
   "nbconvert_exporter": "python",
   "pygments_lexer": "ipython3",
   "version": "3.10.12"
  },
  "orig_nbformat": 4
 },
 "nbformat": 4,
 "nbformat_minor": 2
}
