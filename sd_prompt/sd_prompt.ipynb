{
 "cells": [
  {
   "cell_type": "code",
   "execution_count": 1,
   "metadata": {},
   "outputs": [
    {
     "name": "stdout",
     "output_type": "stream",
     "text": [
      "Intel MKL WARNING: Support of Intel(R) Streaming SIMD Extensions 4.2 (Intel(R) SSE4.2) enabled only processors has been deprecated. Intel oneAPI Math Kernel Library 2025.0 will require Intel(R) Advanced Vector Extensions (Intel(R) AVX) instructions.\n",
      "Intel MKL WARNING: Support of Intel(R) Streaming SIMD Extensions 4.2 (Intel(R) SSE4.2) enabled only processors has been deprecated. Intel oneAPI Math Kernel Library 2025.0 will require Intel(R) Advanced Vector Extensions (Intel(R) AVX) instructions.\n"
     ]
    }
   ],
   "source": [
    "import openai\n",
    "openai.api_type = \"azure\"\n",
    "openai.api_key = \"0396650923ad40b880bf2a3ce3b80b9b\"\n",
    "openai.api_base = \"https://myshell0.openai.azure.com\"\n",
    "openai.api_version = \"2023-07-01-preview\""
   ]
  },
  {
   "cell_type": "code",
   "execution_count": 4,
   "metadata": {},
   "outputs": [],
   "source": [
    "from pydantic import Field,validator, constr\n",
    "from openai_function_call import OpenAISchema\n",
    "from enum import Enum,auto\n",
    "\n",
    "#@markdown ##Para\n",
    "model=\"gpt-4\" #@param[\"gpt-3.5-turbo-0301\",\"gpt-3.5-turbo-0613\",\"gpt-3.5-turbo-16k\"]\n",
    "deploymentid='gpt-4-0613'\n",
    "temperature = 0.7 #@param {type:\"slider\", min:0, max:2, step:0.1}\n",
    "top_p = 1  #@param {type:\"slider\", min:0, max:2, step:0.1}\n",
    "max_tokens = 60 #@param {type:\"slider\", min:0, max:500, step:1}\n",
    "frequency_penalty = 0 #@param {type:\"slider\", min:0, max:2, step:0.1}\n",
    "presence_penalty = 0 #@param {type:\"slider\", min:0, max:2, step:0.1}\n",
    "\n",
    "class Style(str, Enum):\n",
    "    anime = auto()\n",
    "    realistic = auto()\n",
    "\n",
    "class Content_Template(str, Enum):\n",
    "    avatar = auto()\n",
    "    banner = auto()\n",
    "    pics = auto()\n",
    "    character_illustration = auto()\n",
    "    chat_background = auto()\n",
    "\n",
    "\n",
    "\n",
    "#myshell传输过来的数据包含- Enrich描述，style，尺寸，可能的内容模版\n",
    "class Sd_prompt_Input(OpenAISchema):\n",
    "    \"\"\"\n",
    "    Necessary (Myshell output)\n",
    "    - Enrich picture description\n",
    "    - Recommended style\n",
    "    - Recommended size\n",
    "\n",
    "    Optional data(Content template)\n",
    "    - Avatar\n",
    "    - Banner\n",
    "    - Pics\n",
    "    - Character illustration\n",
    "    - Chat background\n",
    "    \"\"\"\n",
    "    enrich_description: str = Field(..., description=\"Enrich picture description\")\n",
    "    style: Style = Field(..., description=\"Recommended style\")\n",
    "    size: constr(regex=r\"^[1-9][0-9]{0,3}x[1-9][0-9]{0,3}$\") = Field(..., description=\"Recommended size\")\n",
    "    \n",
    "    @validator(\"size\",pre=True)\n",
    "    def validate_size(cls, size):\n",
    "        width, height = map(int, size.split('x'))\n",
    "        if width > 1024 or height > 1024:\n",
    "            raise ValueError(\"Size must be 1024x1024 or below\")\n",
    "        return size\n",
    "    \n",
    "    content_template: Content_Template = Field(Content_Template.avatar, description=\"Content template\")\n",
    "\n",
    "\n",
    "function_descripton = [\n",
    "    {\n",
    "        \"name\":\"mapping_content_template_to_size\",\n",
    "        \"description\":\"Mapping content template to picture size\"\n",
    "        \"parameters\":{\n",
    "            \"type\":\"\"\n",
    "        }\n",
    "    }\n",
    "]\n",
    "\n",
    "\n",
    "\n",
    "class Sd_prompt_Result(OpenAISchema):\n",
    "    \"\"\"\n",
    "    The result data model of the sd_prompt function.\n",
    "    \"\"\"\n",
    "\n",
    "\n"
   ]
  },
  {
   "cell_type": "code",
   "execution_count": null,
   "metadata": {},
   "outputs": [],
   "source": []
  }
 ],
 "metadata": {
  "kernelspec": {
   "display_name": "chatgpt",
   "language": "python",
   "name": "python3"
  },
  "language_info": {
   "codemirror_mode": {
    "name": "ipython",
    "version": 3
   },
   "file_extension": ".py",
   "mimetype": "text/x-python",
   "name": "python",
   "nbconvert_exporter": "python",
   "pygments_lexer": "ipython3",
   "version": "3.10.12"
  },
  "orig_nbformat": 4
 },
 "nbformat": 4,
 "nbformat_minor": 2
}
