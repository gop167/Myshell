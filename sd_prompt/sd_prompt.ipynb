{
 "cells": [
  {
   "cell_type": "code",
   "execution_count": 15,
   "metadata": {},
   "outputs": [],
   "source": [
    "import openai\n",
    "openai.api_type = \"azure\"\n",
    "openai.api_key = \"0396650923ad40b880bf2a3ce3b80b9b\"\n",
    "openai.api_base = \"https://myshell0.openai.azure.com\"\n",
    "openai.api_version = \"2023-07-01-preview\""
   ]
  },
  {
   "cell_type": "markdown",
   "metadata": {},
   "source": [
    "### 1. 定义Sd_prompt_Input类\n",
    "+ 包含一个str类enrich描述\n",
    "+ 包含两个枚举类Syle,Image_purpose\n",
    "\n",
    "### 2. 定义Sd_prompt_clip类\n",
    "+ 包含 prompt_clip: str\n",
    "+ 包含 checkpoint枚举类\n",
    "+ 包含 有限制的size：str\n",
    "\n",
    "### 3. 定义sd_prompt_Input_to_prompt_clip\n",
    "1. 输入sd_prompt_input:Sd_prompt_Input\n",
    "2. 用mapping_Image_purpose_to_size函数获得Image_purpose的尺寸\n",
    "3. 构造prompt_clip的system message\n",
    "4. 函数构造消息利用openai.Completion.create，其中function_call，function定义为想输出的结果prompt_clip"
   ]
  },
  {
   "cell_type": "code",
   "execution_count": 78,
   "metadata": {},
   "outputs": [
    {
     "name": "stderr",
     "output_type": "stream",
     "text": [
      "/var/folders/8k/phrpf1ts7v50wm9tl_0rk0h40000gn/T/ipykernel_81951/3804000403.py:82: PydanticDeprecatedSince20: Pydantic V1 style `@validator` validators are deprecated. You should migrate to Pydantic V2 style `@field_validator` validators, see the migration guide for more details. Deprecated in Pydantic V2.0 to be removed in V3.0. See Pydantic V2 Migration Guide at https://errors.pydantic.dev/2.3/migration/\n",
      "  @validator(\"size\",pre=True)\n"
     ]
    }
   ],
   "source": [
    "from pydantic import Field,validator, constr\n",
    "from openai_function_call import OpenAISchema\n",
    "from enum import Enum,auto\n",
    "import random\n",
    "\n",
    "#@markdown ##Para\n",
    "model=\"gpt-3.5-turbo-16k\" #@param[\"gpt-3.5-turbo-0301\",\"gpt-3.5-turbo-0613\",\"gpt-3.5-turbo-16k\"]\n",
    "deploymentid='gpt-4-0613'\n",
    "temperature = 0.7 #@param {type:\"slider\", min:0, max:2, step:0.1}\n",
    "top_p = 1  #@param {type:\"slider\", min:0, max:2, step:0.1}\n",
    "max_tokens = 500 #@param {type:\"slider\", min:0, max:500, step:1}\n",
    "frequency_penalty = 0 #@param {type:\"slider\", min:0, max:2, step:0.1}\n",
    "presence_penalty = 0 #@param {type:\"slider\", min:0, max:2, step:0.1}\n",
    "\n",
    "class Style(str, Enum):\n",
    "    anime = \"anime\"\n",
    "    realistic = \"realistic\"\n",
    "    @property\n",
    "    def random_checkpoint(self):\n",
    "        checkpoints = {\n",
    "            \"anime\": [\"AnythingV5\", \"Memamix\", \"AOMO\", \"counterfeit\"],\n",
    "            \"realistic\": [\"dreamshaper\", \"realistic_vision\", \"absolutereality\", \"epic_realism\"]\n",
    "        }\n",
    "        return random.choice(checkpoints[self.value])\n",
    "\n",
    "    \n",
    "\n",
    "\n",
    "class Image_purpose(str, Enum):\n",
    "    avatar = \"avatar\"\n",
    "    banner = \"banner\"\n",
    "    pics = \"pics\"\n",
    "    character_illustration = \"character_illustration\"\n",
    "    chat_background = \"chat_background\"\n",
    "\n",
    "\n",
    "\n",
    "#myshell传输过来的数据包含- Enrich描述，style，内容模版\n",
    "class Sd_prompt_Input(OpenAISchema):\n",
    "    \"\"\"\n",
    "    Myshell output\n",
    "    - Enrich picture description\n",
    "    - Recommended style\n",
    "    - Content template\n",
    "   Content template\n",
    "    - Avatar\n",
    "    - Banner\n",
    "    - Pics\n",
    "    - Character illustration\n",
    "    - Chat background\n",
    "    \"\"\"\n",
    "    enrich_description: str = Field(..., description=\"Enrich picture description\")\n",
    "    style: Style = Field(..., description=\"Recommended style\")\n",
    "    image_purpose: Image_purpose = Field(..., description=\"content template decided by Image_purpose\")\n",
    "    def to_string(self):\n",
    "        return f\"Enrich Description: {self.enrich_description}, \\\n",
    "        Style: {self.style.value}, Image Purpose: {self.image_purpose.value}\"\n",
    "  \n",
    "\n",
    "def mapping_Image_purpose_to_size(image_purpose:Image_purpose)->str:\n",
    "    if image_purpose == Image_purpose.avatar:\n",
    "        return \"512x512\"\n",
    "    elif image_purpose == Image_purpose.banner:\n",
    "        return \"1024x200\"\n",
    "    elif image_purpose == Image_purpose.pics:\n",
    "        return \"600x800\"\n",
    "    elif image_purpose == Image_purpose.character_illustration:\n",
    "        return \"1024x576\"\n",
    "    elif image_purpose == Image_purpose.chat_background:\n",
    "        return \"984x884\"\n",
    "\n",
    "\n",
    "class Sd_prompt_clip(OpenAISchema):\n",
    "    \"\"\"\n",
    "    The result data model of the sd_prompt function:\n",
    "    - prompt clip\n",
    "    - Checkpoint(Recommended style)\n",
    "    - Image size  \n",
    "    \"\"\"\n",
    "    prompt_clip: str = Field(..., description=\"Snippet text simplified by enrich's script\")\n",
    "    checkpoint: str = Field(..., description=\"Models based on recommended styles\")\n",
    "    size: constr(pattern=r\"^[1-9][0-9]{0,3}x[1-9][0-9]{0,3}$\") = Field(..., description=\"size of output image\")\n",
    "    @validator(\"size\",pre=True)\n",
    "    def validate_size(cls, size):\n",
    "        width, height = map(int, size.split('x'))\n",
    "        if width > 1024 or height > 1024:\n",
    "            raise ValueError(\"Size must be 1024x1024 or below\")\n",
    "        return size\n",
    "    \n",
    "\n",
    "\n",
    "def sd_prompt_Input_to_prompt_clip(sd_prompt_input:Sd_prompt_Input)->Sd_prompt_clip:\n",
    "    mapped_size = mapping_Image_purpose_to_size(sd_prompt_input.image_purpose)\n",
    "    # system message of the sd_prompt_Input_to_prompt_clip function\n",
    "    system_message_of_prompt_clip = f\"\"\"\n",
    "\n",
    "        Given the description: '{sd_prompt_input.enrich_description}', \\\n",
    "        and the style: '{sd_prompt_input.style.value}', \\\n",
    "        and the image purpose: '{sd_prompt_input.image_purpose.value}', \\\n",
    "        \n",
    "\n",
    "        --\n",
    "        As an AI text-to-image prompt generator, your primary role is to:\n",
    "        1. generate English snippet text based on the '{sd_prompt_input.enrich_description}' for the prompt clip,\n",
    "         to generate the snippet text, you must follow the following rules:\n",
    "                rule 1. Extract key phrases or keywords from the given description. \n",
    "                rule 2. Simplify the description into shorter, concise phrases that capture the essence of the scene.\n",
    "                rule 3. The phrases should be separated by commas and should be descriptive enough for image generation.\n",
    "                Here are 4 examples of the snippet text:\n",
    "                Example 1:\n",
    "                Input: \"A young girl with blue eyes and blonde hair playing in a park with a red ball.\"\n",
    "                Output: \"1 girl, blue eyes, blonde hair, playing, red ball, park\"\n",
    "\n",
    "                Example 2:\n",
    "                Input: \"A serene beach scene with a setting sun, palm trees, and children building sandcastles.\"\n",
    "                Output: \"serene beach, setting sun, palm trees, children, building sandcastles\"\n",
    "\n",
    "                Example 3:\n",
    "                Input: \"A bustling city street with tall skyscrapers, people walking, and cars honking.\"\n",
    "                Output: \"bustling city, tall skyscrapers, people walking, cars honking\"\n",
    "\n",
    "                Example 4:\n",
    "                Input: \"A young woman with short pink hair, wearing a leather jacket, standing in front of a graffiti wall.\"\n",
    "                Output: \"1 girl, short pink hair, leather jacket, standing, graffiti wall\"\n",
    "            Ensure that object/character tags are in the front, and environment/setting tags are at the end.\n",
    "        2. checkpoint output is {sd_prompt_input.style.random_checkpoint}, \n",
    "        3. image size output is {mapped_size},.    \n",
    "        \n",
    "        \"\"\"\n",
    "    completion = openai.ChatCompletion.create(\n",
    "        temperature=temperature,\n",
    "        top_p=top_p,\n",
    "        model=model,\n",
    "        deployment_id=\"gpt-35-turbo-0613\",\n",
    "        max_tokens=max_tokens,\n",
    "        functions=[Sd_prompt_clip.openai_schema],\n",
    "        function_call={\"name\":Sd_prompt_clip.openai_schema[\"name\"]},\n",
    "        messages=[\n",
    "            {\"role\": \"system\", \"content\":system_message_of_prompt_clip},\n",
    "            {\"role\": \"user\", \"content\":sd_prompt_input.to_string()}\n",
    "        ],\n",
    "    )\n",
    "    sd_prompt_clip_result = Sd_prompt_clip.from_response(completion)\n",
    "    print(sd_prompt_clip_result)\n",
    "    return sd_prompt_clip_result\n"
   ]
  },
  {
   "cell_type": "code",
   "execution_count": 112,
   "metadata": {},
   "outputs": [
    {
     "name": "stdout",
     "output_type": "stream",
     "text": [
      "prompt_clip='cute girl, long pink hair, big bow headband, pink dress with flower pattern, big round eyes, bright eyes, sweet smile, pure and lively' checkpoint='AOMO' size='1024x200'\n"
     ]
    }
   ],
   "source": [
    "sd_prompt_input = Sd_prompt_Input(\n",
    "    enrich_description = \"这个可爱的妹妹有着长长的粉色头发，她戴着一个大大的蝴蝶结头饰，让她看起来更加可爱。她穿着一件粉色的连衣裙，裙子上还有一些小花朵的图案，给人一种清新甜美的感觉。她的眼睛是大大的圆眼睛，闪烁着明亮的光芒，让人忍不住想要亲近她。她的脸上总是挂着甜甜的笑容，散发着纯真和活力\",\n",
    "    style = Style.anime,\n",
    "    image_purpose = Image_purpose.banner,\n",
    ")\n",
    "sd_prompt_clip = sd_prompt_Input_to_prompt_clip(sd_prompt_input)\n"
   ]
  },
  {
   "cell_type": "markdown",
   "metadata": {},
   "source": [
    "## 完成ExtendedSdPromptClip类\n",
    "### 明确函数输出\n",
    "+ 要求输出的包含除了原有的3个参数外（其中第一个要留好正反向提示词的接口不传入的时候默认为空，传入要做个函数接口），还要额外4个参数（用户均可输入，但是不输入就定义为默认值）\n",
    "    - prompt clip + 正反向提示词\n",
    "    - checkpoint\n",
    "    - size\n",
    "    - （Optional）Seed\n",
    "    - （Optional）Sampling Method = \"DPM++ 2s SDE Karras\"\n",
    "    - （Optional）Steps = 25\n",
    "    - （Optional）CFG Scale= 7\n",
    "\n",
    "### 实现方法\n",
    "1. 显然该类继承自Sd_prompt_clip比较好\n",
    "2. 定义该类4个额外的值类型seed ，steps，cfg_scale是int，sampling_method是枚举，\n",
    "3. 定义新类Extended_Sd_prompt_clip该类继承自Sd_prompt_clip（功能定义是prompt类型的调节都可以在这里进行）\n",
    "4. 用户可以对同时新输出为整合成的combined_prompt，\n"
   ]
  },
  {
   "cell_type": "code",
   "execution_count": 113,
   "metadata": {},
   "outputs": [],
   "source": [
    "class SamplingMethod(Enum):\n",
    "    Euler = \"Euler\"\n",
    "    Euler_a = \"Euler a\"\n",
    "    LMS = \"LMS\"\n",
    "    Heun = \"Heun\"\n",
    "    DPM2 = \"DPM2\"\n",
    "    DPM2_a = \"DPM2 a\"\n",
    "    DPM_2S_a = \"DPM++ 2S a\"\n",
    "    DPM_2M = \"DPM++ 2M\"\n",
    "    DPM_SDE = \"DPM++ SDE\"\n",
    "    DPM_fast = \"DPM fast\"\n",
    "    DPM_adaptive = \"DPM adaptive\"\n",
    "    LMS_Karras = \"LMS Karras\"\n",
    "    DPM2_Karras = \"DPM2 Karras\"\n",
    "    DPM2_a_Karras = \"DPM2 a Karras\"\n",
    "    DPM_2S_a_Karras = \"DPM++ 2S a Karras\"\n",
    "    DPM_2M_Karras = \"DPM++ 2M Karras\"\n",
    "    DPM_SDE_Karras = \"DPM++ SDE Karras\"\n",
    "    DPM_2M_SDE_Karras = \"DPM++ 2M SDE Karras\"\n",
    "    DDIM = \"DDIM\"\n",
    "    PLMS = \"PLMS\"\n",
    "\n",
    "class Extended_Sd_prompt_clip(Sd_prompt_clip):\n",
    "    positive_prompt: str = Field(\"\", description=\"Positive prompt\")\n",
    "    negative_prompt: str = Field(\"\", description=\"Negative prompt\")\n",
    "    @property\n",
    "    def combined_prompt(self):\n",
    "        return f\"{self.prompt_clip}, {self.positive_prompt} \"\n",
    "\n",
    "class Final_Sd_prompt_clip(Sd_prompt_clip):\n",
    "    negative_prompt: str = Field(\"\", description = \"original negative prompt\")\n",
    "    seed: int = Field(-1, description=\"Seed value for the model.\")\n",
    "    sampling_method: SamplingMethod = Field(SamplingMethod.DPM_2M_SDE_Karras, description=\"sampling method for the model.\")\n",
    "    steps: int = Field(25, description=\"Number of steps for the model.\")\n",
    "    cfg_scale: int = Field(7, description=\"Prompt word lead coefficient, generally between 7 and 12 is the best, more than 20 is not recommended.\")\n",
    "\n",
    "#这里seed一定要开发给用户，因为用户需要同一个随机数生成差不多的图片，他们通过控制迭代步数/cfg scale/checkpoint来生成\n",
    "def prompt_clip2extended_prompt_clip(sd_prompt_clip:Sd_prompt_clip,\n",
    "    positive_prompt: str = \"\",\n",
    "    negative_prompt: str = \"\",\n",
    "    seed:int = -1,\n",
    "    sampling_method: SamplingMethod = SamplingMethod.DPM_2M_SDE_Karras, \n",
    "    steps: int = 25,\n",
    "    cfg_scale: int = 7 )->Final_Sd_prompt_clip:\n",
    "    extended_prompt_clip = Extended_Sd_prompt_clip(\n",
    "        prompt_clip = sd_prompt_clip.prompt_clip,\n",
    "        checkpoint = sd_prompt_clip.checkpoint,\n",
    "        size = sd_prompt_clip.size,\n",
    "        positive_prompt = positive_prompt,\n",
    "        negative_prompt = negative_prompt,  \n",
    "    )\n",
    "    final_extended_prompt_clip = Final_Sd_prompt_clip(\n",
    "        prompt_clip = extended_prompt_clip.combined_prompt,\n",
    "        checkpoint = sd_prompt_clip.checkpoint,\n",
    "        size = sd_prompt_clip.size,\n",
    "        negative_prompt = negative_prompt,\n",
    "        seed = seed,\n",
    "        sampling_method = sampling_method,\n",
    "        steps = steps,\n",
    "        cfg_scale = cfg_scale,\n",
    "    )\n",
    "    return final_extended_prompt_clip\n",
    "\n",
    "\n",
    "\n",
    "\n",
    "\n",
    "\n",
    "\n",
    "\n",
    "\n"
   ]
  },
  {
   "cell_type": "code",
   "execution_count": 114,
   "metadata": {},
   "outputs": [
    {
     "data": {
      "text/plain": [
       "'{\"prompt_clip\":\"cute girl, long pink hair, big bow headband, pink dress with flower pattern, big round eyes, bright eyes, sweet smile, pure and lively, masterpiece \",\"checkpoint\":\"AOMO\",\"size\":\"1024x200\",\"negative_prompt\":\"easynegative\",\"seed\":-1,\"sampling_method\":\"DPM++ 2M SDE Karras\",\"steps\":25,\"cfg_scale\":7}'"
      ]
     },
     "execution_count": 114,
     "metadata": {},
     "output_type": "execute_result"
    }
   ],
   "source": [
    "extended_prompt = prompt_clip2extended_prompt_clip(sd_prompt_clip, \"masterpiece\",\"easynegative\", -1)\n",
    "\n",
    "# extended_prompt = Extended_Sd_prompt_clip(\n",
    "#     prompt_clip=\"This is a beautiful scene.\",\n",
    "#     checkpoint=\"AOMO3\",\n",
    "#     size=\"1024x768\",\n",
    "#     positive_hint=\",\",\n",
    "#     negative_hint=\", but not too hot.\"\n",
    "# )\n",
    "extended_prompt\n",
    "extended_prompt.model_dump_json()"
   ]
  },
  {
   "cell_type": "markdown",
   "metadata": {},
   "source": [
    "## 功能函数：给基础玩家 + 高玩\n",
    "1. 定义基础的生图，一键式有enriched那三个参数传过来,\n",
    "用function call把提取出的对象取出来\n",
    "同时，正反向提示词准备好\n",
    "\n",
    "2. 定义高玩可调控的七个参数的prompt结构\n"
   ]
  },
  {
   "cell_type": "code",
   "execution_count": 139,
   "metadata": {},
   "outputs": [],
   "source": [
    "\n",
    "user_input = \"\"\"哈哈，我明白了！让我们一起来创造一个超级可爱的妹妹吧！\n",
    "## 图像想象\n",
    "这个可爱的妹妹有着长长的粉色头发，她戴着一个大大的蝴蝶结头饰，让她看起来更加可爱。她穿着一件粉色的连衣裙，裙子上还有一些小花朵的图案，给人一种清新甜美的感觉。她的眼睛是大大的圆眼睛，闪烁着明亮的光芒，让人忍不住想要亲近她。她的脸上总是挂着甜甜的笑容，散发着纯真和活力。\n",
    "## 图像风格\n",
    "我强烈推荐使用动漫风格，这样可以更好地展现妹妹的可爱和活泼。\n",
    "## 图像用途\n",
    "这个图像非常适合作为你的个人头像，让你在社交平台上展现出可爱的一面！\"\"\"\n",
    "def extract_sd_prompt_infoV2(user_input) -> Sd_prompt_Input:\n",
    "    \"\"\"\n",
    "    Extract Sd_prompt_Input from user input\n",
    "    \"\"\"\n",
    "    completion = openai.ChatCompletion.create(\n",
    "        model = model,\n",
    "        temperature=temperature,\n",
    "        top_p=top_p,\n",
    "        deployment_id=\"gpt-35-turbo-0613\",\n",
    "        max_tokens=max_tokens,\n",
    "        functions = [Sd_prompt_Input.openai_schema],\n",
    "        function_call = {\"name\":Sd_prompt_Input.openai_schema[\"name\"]},\n",
    "        messages = [\n",
    "            {\"role\": \"system\", \"content\": \"Extract Sd_prompt_Input from user input\"},\n",
    "            {\"role\": \"user\", \"content\": user_input},\n",
    "        ],\n",
    "    )\n",
    "    return Sd_prompt_Input.from_response(completion)\n"
   ]
  },
  {
   "cell_type": "markdown",
   "metadata": {},
   "source": [
    "## 改良extract，不用过gpt\n",
    "因为过gpt跑的太慢了--3.6s-5s，所以根据固定定义格式以“##”为分隔符重新提取\n",
    "1. 先分隔行\n",
    "2. 确定关键词\n",
    "3. 正则的方法，提取各个参数\n",
    "4. usage按照第一个提到的用途去传入值"
   ]
  },
  {
   "cell_type": "code",
   "execution_count": 140,
   "metadata": {},
   "outputs": [],
   "source": [
    "import re\n",
    "user_input = \"\"\"Oh, you want a banner featuring the legendary Kobe Bryant, the leader of the Lakers team!\n",
    "## Image imagination\n",
    "In this banner, we can have Kobe Bryant in his Lakers jersey, with his iconic number 24 on it. He can be shown in a dynamic pose, dribbling the basketball with intensity and determination. The background can be a basketball court, with the Lakers logo at the center. The court can be surrounded by cheering fans, creating an electric atmosphere. The banner can also include some of Kobe's career highlights, such as his championships and MVP awards, displayed in a stylish and artistic way.\n",
    "## Image style\n",
    "For this banner, I recommend a realistic style. It will capture the essence of Kobe's greatness and bring out the details of his expression and movements.\n",
    "## Image usage\n",
    "This banner would be perfect for showing your love and admiration for Kobe Bryant on your social media profiles or as a tribute on your website.\"\"\"\n",
    "def extract_sd_prompt_info(user_input: str) -> Sd_prompt_Input:\n",
    "    #split user_input into lines\n",
    "    lines = user_input.splitlines()\n",
    "    #confirm keywords according to the first line\n",
    "    if \"## Image imagination\" in user_input:\n",
    "        imagination_key = \"## Image imagination\"\n",
    "        style_key = \"## Image style\"\n",
    "        usage_key = \"## Image usage\"\n",
    "\n",
    "    #extract imagination\n",
    "    enrich_description_start = lines.index(imagination_key) + 1 \n",
    "    enrich_description_end = lines.index(style_key)\n",
    "    enrich_description = \" \".join(lines[enrich_description_start:enrich_description_end])\n",
    "\n",
    "    #extract style\n",
    "    style_line_index = lines.index(style_key) + 1\n",
    "    style_line = lines[style_line_index]\n",
    "    if \"anime\" in style_line:\n",
    "        style = Style.anime\n",
    "    else:\n",
    "        style = Style.realistic\n",
    "\n",
    "    #extract usage\n",
    "    usage_section = \"\\n\".join(lines[lines.index(usage_key)+1:])\n",
    "    purpose_keywords = {\n",
    "        Image_purpose.avatar:[\"avatar\"],\n",
    "        Image_purpose.banner:[\"banner\"],\n",
    "        Image_purpose.pics:[\"pics\"],\n",
    "        Image_purpose.character_illustration:[\"character illustration\"],\n",
    "        Image_purpose.chat_background:[\"chat background\"],\n",
    "    }\n",
    "    image_purpose = None\n",
    "    for purpose, keywords in purpose_keywords.items():\n",
    "        if any(re.search(r'\\b' + keyword + r'\\b', usage_section, re.IGNORECASE) for keyword in keywords):\n",
    "            image_purpose = purpose\n",
    "            break\n",
    "            \n",
    "    #create Sd_prompt_Input and return\n",
    "    return Sd_prompt_Input(\n",
    "        enrich_description = enrich_description,\n",
    "        style = style,\n",
    "        image_purpose = image_purpose,\n",
    "    )\n",
    "\n",
    "extract_sd_prompt_info(user_input)\n",
    "\n",
    "def final_sd_prompt(user_input: str) -> Final_Sd_prompt_clip:\n",
    "    sd_prompt_input = extract_sd_prompt_info(user_input)\n",
    "    sd_prompt_clip = sd_prompt_Input_to_prompt_clip(sd_prompt_input)\n",
    "    final_extended_prompt_clip = prompt_clip2extended_prompt_clip(sd_prompt_clip)\n",
    "    return final_extended_prompt_clip\n",
    "\n",
    "\n",
    "def final_sd_promptV2(user_input: str) -> Final_Sd_prompt_clip:\n",
    "    sd_prompt_input = extract_sd_prompt_infoV2(user_input)\n",
    "    sd_prompt_clip = sd_prompt_Input_to_prompt_clip(sd_prompt_input)\n",
    "    final_extended_prompt_clip = prompt_clip2extended_prompt_clip(sd_prompt_clip)\n",
    "    return final_extended_prompt_clip"
   ]
  },
  {
   "cell_type": "code",
   "execution_count": 147,
   "metadata": {},
   "outputs": [
    {
     "name": "stdout",
     "output_type": "stream",
     "text": [
      "prompt_clip='Kobe Bryant, Lakers jersey, number 24, dynamic pose, dribbling basketball, basketball court, Lakers logo, cheering fans, electric atmosphere, career highlights, championships, MVP awards, stylish, artistic' checkpoint='dreamshaper' size='1024x200'\n"
     ]
    },
    {
     "data": {
      "text/plain": [
       "Final_Sd_prompt_clip(prompt_clip='Kobe Bryant, Lakers jersey, number 24, dynamic pose, dribbling basketball, basketball court, Lakers logo, cheering fans, electric atmosphere, career highlights, championships, MVP awards, stylish, artistic,  ', checkpoint='dreamshaper', size='1024x200', negative_prompt='', seed=-1, sampling_method=<SamplingMethod.DPM_2M_SDE_Karras: 'DPM++ 2M SDE Karras'>, steps=25, cfg_scale=7)"
      ]
     },
     "execution_count": 147,
     "metadata": {},
     "output_type": "execute_result"
    }
   ],
   "source": [
    "user_input2 =\"\"\"Oh, a cat! Let's bring out your inner artist and create a masterpiece together!\n",
    "## Image imagination\n",
    "This cat is a fluffy and adorable creature with bright, expressive eyes. It has a sleek and shiny coat, with a mix of colors like orange, white, and black. Its ears are perked up, showing curiosity and alertness. The cat is sitting on a windowsill, with sunlight streaming in and casting a warm glow on its fur. Outside the window, there are lush green trees and colorful flowers, creating a peaceful and serene atmosphere.\n",
    "## Image style\n",
    "I recommend going for a realistic style to capture the beauty and details of the cat's features.\n",
    "## Image usage\n",
    "This image would make a purrfect avatar for your bot! What do you think?\"\"\"\n",
    "final_sd_prompt(user_input)\n",
    "\n",
    "\n",
    "# keywords = {\n",
    "#     Image_purpose.avatar: [\"avatar\", \"头像\"],\n",
    "#     Image_purpose.banner: [\"banner\", \"横幅\"],\n",
    "#     Image_purpose.pics: [\"pics\", \"图片\"],\n",
    "#     Image_purpose.character_illustration: [\"character illustration\", \"插图\"],\n",
    "#     Image_purpose.chat_background: [\"chat background\", \"背景\"]\n",
    "# }\n",
    "# # 查找所有匹配的位置\n",
    "# matches = {}\n",
    "# for purpose, words in keywords.items():\n",
    "#     for word in words:\n",
    "#         for match in re.finditer(r'\\b' + word + r'\\b', purpose_section, re.IGNORECASE):\n",
    "#             matches[match.start()] = purpose\n",
    "\n",
    "# # 如果没有找到任何匹配\n",
    "# if not matches:\n",
    "#     image_purpose = None  # 或者其他默认值\n",
    "# else:\n",
    "#     # 根据位置排序并选择第一个匹配的图像用途\n",
    "#     image_purpose = matches[sorted(matches.keys())[0]]"
   ]
  },
  {
   "cell_type": "code",
   "execution_count": 148,
   "metadata": {},
   "outputs": [
    {
     "name": "stdout",
     "output_type": "stream",
     "text": [
      "prompt_clip='Kobe Bryant, Lakers jersey, number 24, dynamic pose, dribbling basketball, basketball court, Lakers logo, cheering fans, career highlights, stylish artistic' checkpoint='absolutereality' size='1024x200'\n"
     ]
    },
    {
     "data": {
      "text/plain": [
       "Final_Sd_prompt_clip(prompt_clip='Kobe Bryant, Lakers jersey, number 24, dynamic pose, dribbling basketball, basketball court, Lakers logo, cheering fans, career highlights, stylish artistic,  ', checkpoint='absolutereality', size='1024x200', negative_prompt='', seed=-1, sampling_method=<SamplingMethod.DPM_2M_SDE_Karras: 'DPM++ 2M SDE Karras'>, steps=25, cfg_scale=7)"
      ]
     },
     "execution_count": 148,
     "metadata": {},
     "output_type": "execute_result"
    }
   ],
   "source": [
    "final_sd_promptV2(user_input)"
   ]
  },
  {
   "cell_type": "code",
   "execution_count": 149,
   "metadata": {},
   "outputs": [
    {
     "name": "stdout",
     "output_type": "stream",
     "text": [
      "prompt_clip='fluffy and adorable cat, bright expressive eyes, sleek shiny coat, mix of colors, orange, white, black, perked up ears, curiosity, alertness, sitting on windowsill, sunlight streaming in, warm glow on fur, lush green trees, colorful flowers, peaceful serene atmosphere' checkpoint='realistic_vision' size='512x512'\n"
     ]
    },
    {
     "data": {
      "text/plain": [
       "Final_Sd_prompt_clip(prompt_clip='fluffy and adorable cat, bright expressive eyes, sleek shiny coat, mix of colors, orange, white, black, perked up ears, curiosity, alertness, sitting on windowsill, sunlight streaming in, warm glow on fur, lush green trees, colorful flowers, peaceful serene atmosphere,  ', checkpoint='realistic_vision', size='512x512', negative_prompt='', seed=-1, sampling_method=<SamplingMethod.DPM_2M_SDE_Karras: 'DPM++ 2M SDE Karras'>, steps=25, cfg_scale=7)"
      ]
     },
     "execution_count": 149,
     "metadata": {},
     "output_type": "execute_result"
    }
   ],
   "source": [
    "final_sd_promptV2(user_input2)"
   ]
  },
  {
   "cell_type": "code",
   "execution_count": 150,
   "metadata": {},
   "outputs": [
    {
     "name": "stdout",
     "output_type": "stream",
     "text": [
      "prompt_clip='fluffy cat, adorable creature, bright expressive eyes, sleek shiny coat, orange white black colors, perked up ears, sitting on windowsill, sunlight streaming in, warm glow on fur, lush green trees, colorful flowers, peaceful serene atmosphere' checkpoint='dreamshaper' size='512x512'\n"
     ]
    },
    {
     "data": {
      "text/plain": [
       "Final_Sd_prompt_clip(prompt_clip='fluffy cat, adorable creature, bright expressive eyes, sleek shiny coat, orange white black colors, perked up ears, sitting on windowsill, sunlight streaming in, warm glow on fur, lush green trees, colorful flowers, peaceful serene atmosphere,  ', checkpoint='dreamshaper', size='512x512', negative_prompt='', seed=-1, sampling_method=<SamplingMethod.DPM_2M_SDE_Karras: 'DPM++ 2M SDE Karras'>, steps=25, cfg_scale=7)"
      ]
     },
     "execution_count": 150,
     "metadata": {},
     "output_type": "execute_result"
    }
   ],
   "source": [
    "final_sd_prompt(user_input2)"
   ]
  }
 ],
 "metadata": {
  "kernelspec": {
   "display_name": "chatgpt",
   "language": "python",
   "name": "python3"
  },
  "language_info": {
   "codemirror_mode": {
    "name": "ipython",
    "version": 3
   },
   "file_extension": ".py",
   "mimetype": "text/x-python",
   "name": "python",
   "nbconvert_exporter": "python",
   "pygments_lexer": "ipython3",
   "version": "3.10.12"
  },
  "orig_nbformat": 4
 },
 "nbformat": 4,
 "nbformat_minor": 2
}
